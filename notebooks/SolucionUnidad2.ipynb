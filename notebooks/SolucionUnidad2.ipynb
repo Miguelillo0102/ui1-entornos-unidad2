{
 "cells": [
  {
   "cell_type": "markdown",
   "metadata": {},
   "source": [
    "# Código sección 1.2.3"
   ]
  },
  {
   "cell_type": "code",
   "execution_count": 1,
   "metadata": {},
   "outputs": [],
   "source": [
    "students_rdd=sc.textFile('../data/students.tsv')"
   ]
  },
  {
   "cell_type": "code",
   "execution_count": 2,
   "metadata": {},
   "outputs": [
    {
     "name": "stdout",
     "output_type": "stream",
     "text": [
      "['1\\tJohn\\tDoe\\tM\\t18', '2\\tMary\\tDoe\\tF\\t20', '3\\tLara\\tCroft\\tF\\t25']\n"
     ]
    }
   ],
   "source": [
    "some_students = students_rdd.take(3)\n",
    "print(some_students)"
   ]
  },
  {
   "cell_type": "code",
   "execution_count": 3,
   "metadata": {},
   "outputs": [
    {
     "name": "stdout",
     "output_type": "stream",
     "text": [
      "['1\\tMath\\t5.6', '2\\tMath\\t8.9', '3\\tMath\\t7.1', '4\\tMath\\t2.3', '5\\tMath\\t6.7', '7\\tMath\\t8.5', '8\\tMath\\t6.7', '9\\tMath\\t8.9', '10\\tMath\\t10.0', '1\\tBiology\\t4.5', '2\\tBiology\\t10.0', '4\\tBiology\\t6.7', '5\\tBiology\\t10.0', '9\\tBiology\\t7.8', '1\\tEngineering\\t7.7', '2\\tEngineering\\t6.7', '3\\tEngineering\\t4.3', '4\\tEngineering\\t8.0', '5\\tEngineering\\t9.0', '7\\tEngineering\\t8.5', '8\\tEngineering\\t3.4', '9\\tEngineering\\t4.3', '10\\tEngineering\\t10.0', '1\\tPhysics\\t2.3', '2\\tPhysics\\t6.7', '3\\tPhysics\\t5.7', '4\\tPhysics\\t6.6', '5\\tPhysics\\t4.5', '7\\tPhysics\\t8.9', '9\\tPhysics\\t5.0', '10\\tPhysics\\t3.3', '1\\tJohn\\tDoe\\tM\\t18', '2\\tMary\\tDoe\\tF\\t20', '3\\tLara\\tCroft\\tF\\t25', '4\\tSherlock\\tHolmes\\tM\\t36', '5\\tJohn\\tWatson\\tM\\t38', '6\\tSarah\\tKerrigan\\tF\\t21', '7\\tBruce\\tWayne\\tM\\t32', '8\\tTony\\tStark\\tM\\t33', '9\\tPrincess\\tPeach\\tF\\t21', '10\\tPeter\\tParker\\tM\\t23']\n"
     ]
    }
   ],
   "source": [
    "all_tsv_rdd = sc.textFile('../data/*.tsv')\n",
    "print(all_tsv_rdd.take(100))"
   ]
  },
  {
   "cell_type": "code",
   "execution_count": 4,
   "metadata": {},
   "outputs": [
    {
     "name": "stdout",
     "output_type": "stream",
     "text": [
      "[('file:/home/alumno/projects/entornos/ui1-entornos-unidad2/data/grades.tsv', '1\\tMath\\t5.6\\n2\\tMath\\t8.9\\n3\\tMath\\t7.1\\n4\\tMath\\t2.3\\n5\\tMath\\t6.7\\n7\\tMath\\t8.5\\n8\\tMath\\t6.7\\n9\\tMath\\t8.9\\n10\\tMath\\t10.0\\n1\\tBiology\\t4.5\\n2\\tBiology\\t10.0\\n4\\tBiology\\t6.7\\n5\\tBiology\\t10.0\\n9\\tBiology\\t7.8\\n1\\tEngineering\\t7.7\\n2\\tEngineering\\t6.7\\n3\\tEngineering\\t4.3\\n4\\tEngineering\\t8.0\\n5\\tEngineering\\t9.0\\n7\\tEngineering\\t8.5\\n8\\tEngineering\\t3.4\\n9\\tEngineering\\t4.3\\n10\\tEngineering\\t10.0\\n1\\tPhysics\\t2.3\\n2\\tPhysics\\t6.7\\n3\\tPhysics\\t5.7\\n4\\tPhysics\\t6.6\\n5\\tPhysics\\t4.5\\n7\\tPhysics\\t8.9\\n9\\tPhysics\\t5.0\\n10\\tPhysics\\t3.3\\n'), ('file:/home/alumno/projects/entornos/ui1-entornos-unidad2/data/students.tsv', '1\\tJohn\\tDoe\\tM\\t18\\n2\\tMary\\tDoe\\tF\\t20\\n3\\tLara\\tCroft\\tF\\t25\\n4\\tSherlock\\tHolmes\\tM\\t36\\n5\\tJohn\\tWatson\\tM\\t38\\n6\\tSarah\\tKerrigan\\tF\\t21\\n7\\tBruce\\tWayne\\tM\\t32\\n8\\tTony\\tStark\\tM\\t33\\n9\\tPrincess\\tPeach\\tF\\t21\\n10\\tPeter\\tParker\\tM\\t23\\n')]\n"
     ]
    }
   ],
   "source": [
    "all_files_rdd=sc.wholeTextFiles('../data/')\n",
    "print(all_files_rdd.take(2))"
   ]
  },
  {
   "cell_type": "code",
   "execution_count": 5,
   "metadata": {},
   "outputs": [],
   "source": [
    "grades_rdd = sc.textFile('../data/grades.tsv')"
   ]
  },
  {
   "cell_type": "markdown",
   "metadata": {},
   "source": [
    "# Código sección 1.2.4"
   ]
  },
  {
   "cell_type": "code",
   "execution_count": 6,
   "metadata": {},
   "outputs": [],
   "source": [
    "my_list = [x for x in range(0,1000000)]\n",
    "my_rdd = sc.parallelize(my_list)"
   ]
  },
  {
   "cell_type": "code",
   "execution_count": 7,
   "metadata": {},
   "outputs": [
    {
     "data": {
      "text/plain": [
       "[0.5136907344169401, 0.9042142790907439]"
      ]
     },
     "execution_count": 7,
     "metadata": {},
     "output_type": "execute_result"
    }
   ],
   "source": [
    "import random\n",
    "random_rdd = sc.parallelize([random.random() for x in range(0,10000)])\n",
    "random_rdd.take(2)"
   ]
  },
  {
   "cell_type": "markdown",
   "metadata": {},
   "source": [
    "# Código sección 1.3.1"
   ]
  },
  {
   "cell_type": "code",
   "execution_count": 8,
   "metadata": {},
   "outputs": [
    {
     "name": "stdout",
     "output_type": "stream",
     "text": [
      "[['1', 'John', 'Doe', 'M', '18'], ['2', 'Mary', 'Doe', 'F', '20'], ['3', 'Lara', 'Croft', 'F', '25']]\n"
     ]
    }
   ],
   "source": [
    "students_list_rdd = students_rdd.map( lambda line : line.split('\\t') )\n",
    "print(students_list_rdd.take(3))"
   ]
  },
  {
   "cell_type": "code",
   "execution_count": 9,
   "metadata": {},
   "outputs": [],
   "source": [
    "def splitLineIntoList(line):\n",
    "    return line.split('\\t')"
   ]
  },
  {
   "cell_type": "code",
   "execution_count": 10,
   "metadata": {},
   "outputs": [],
   "source": [
    "students_list_rdd = students_rdd.map( splitLineIntoList )"
   ]
  },
  {
   "cell_type": "code",
   "execution_count": 11,
   "metadata": {
    "scrolled": true
   },
   "outputs": [
    {
     "data": {
      "text/plain": [
       "[['1', 'John', 'Doe', 'M', '18'],\n",
       " ['2', 'Mary', 'Doe', 'F', '20'],\n",
       " ['3', 'Lara', 'Croft', 'F', '25'],\n",
       " ['4', 'Sherlock', 'Holmes', 'M', '36']]"
      ]
     },
     "execution_count": 11,
     "metadata": {},
     "output_type": "execute_result"
    }
   ],
   "source": [
    "students_list_rdd.take(4)"
   ]
  },
  {
   "cell_type": "code",
   "execution_count": 12,
   "metadata": {},
   "outputs": [],
   "source": [
    "def convertStudentList(student_list):\n",
    "    new_list = list(student_list)\n",
    "    new_list[0] = int(new_list[0])\n",
    "    new_list[4] =  int(new_list[4])\n",
    "    return new_list"
   ]
  },
  {
   "cell_type": "code",
   "execution_count": 13,
   "metadata": {},
   "outputs": [],
   "source": [
    "students_list_rdd = students_list_rdd.map(convertStudentList)"
   ]
  },
  {
   "cell_type": "code",
   "execution_count": 14,
   "metadata": {},
   "outputs": [
    {
     "name": "stdout",
     "output_type": "stream",
     "text": [
      "[[1, 'John', 'Doe', 'M', 18, True], [2, 'Mary', 'Doe', 'F', 20, False]] [[1, 'John'], [2, 'Mary']] [[1, 'John Doe', 'M', 18], [2, 'Mary Doe', 'F', 20]]\n"
     ]
    }
   ],
   "source": [
    "students_teen_rdd = students_list_rdd.map(lambda student: student + [student[4]>=10 and student[4]<20])\n",
    "students_proj_rdd = students_list_rdd.map(lambda student: [student[0], student[1]])\n",
    "students_fullname_rdd = students_list_rdd.map(lambda student: [student[0], student[1] + \" \" + student[2], student[3], student[4]])\n",
    "print(students_teen_rdd.take(2), students_proj_rdd.take(2), students_fullname_rdd.take(2))"
   ]
  },
  {
   "cell_type": "code",
   "execution_count": 15,
   "metadata": {},
   "outputs": [
    {
     "data": {
      "text/plain": [
       "[[1, 'Math', 5.6], [2, 'Math', 8.9]]"
      ]
     },
     "execution_count": 15,
     "metadata": {},
     "output_type": "execute_result"
    }
   ],
   "source": [
    "def convertGradeList(grade_line):\n",
    "    grade_list = grade_line.split('\\t')\n",
    "    grade_list[0] = int(grade_list[0])\n",
    "    grade_list[2] = float(grade_list[2])\n",
    "    return grade_list\n",
    "\n",
    "grades_list_rdd = grades_rdd.map(convertGradeList)\n",
    "grades_list_rdd.take(2)"
   ]
  },
  {
   "cell_type": "code",
   "execution_count": 16,
   "metadata": {},
   "outputs": [
    {
     "data": {
      "text/plain": [
       "[[1, 'John', 'Doe', 'M', 18, True],\n",
       " [2, 'Mary', 'Doe', 'F', 20, True],\n",
       " [3, 'Lara', 'Croft', 'F', 25, False]]"
      ]
     },
     "execution_count": 16,
     "metadata": {},
     "output_type": "execute_result"
    }
   ],
   "source": [
    "students_list_mod_rdd = students_list_rdd.map(lambda student: student + [student[4]<25])\n",
    "students_list_mod_rdd.take(3)"
   ]
  },
  {
   "cell_type": "code",
   "execution_count": 17,
   "metadata": {},
   "outputs": [
    {
     "data": {
      "text/plain": [
       "['1', 'John', 'Doe', 'M', '18', '2', 'Mary', 'Doe', 'F', '20']"
      ]
     },
     "execution_count": 17,
     "metadata": {},
     "output_type": "execute_result"
    }
   ],
   "source": [
    "words_rdd = students_rdd.flatMap(lambda student: student.split('\\t'))\n",
    "words_rdd.take(10)"
   ]
  },
  {
   "cell_type": "markdown",
   "metadata": {},
   "source": [
    "# Código sección 1.3.2"
   ]
  },
  {
   "cell_type": "code",
   "execution_count": 18,
   "metadata": {},
   "outputs": [
    {
     "data": {
      "text/plain": [
       "[[1, 'John', 'Doe', 'M', 18],\n",
       " [4, 'Sherlock', 'Holmes', 'M', 36],\n",
       " [5, 'John', 'Watson', 'M', 38],\n",
       " [7, 'Bruce', 'Wayne', 'M', 32],\n",
       " [8, 'Tony', 'Stark', 'M', 33],\n",
       " [10, 'Peter', 'Parker', 'M', 23]]"
      ]
     },
     "execution_count": 18,
     "metadata": {},
     "output_type": "execute_result"
    }
   ],
   "source": [
    "male_students_rdd = students_list_rdd.filter(lambda student: student[3] == 'M')\n",
    "male_students_rdd.collect()"
   ]
  },
  {
   "cell_type": "code",
   "execution_count": 19,
   "metadata": {},
   "outputs": [
    {
     "data": {
      "text/plain": [
       "[[1, 'Engineering', 7.7], [2, 'Engineering', 6.7]]"
      ]
     },
     "execution_count": 19,
     "metadata": {},
     "output_type": "execute_result"
    }
   ],
   "source": [
    "engineering_grades = grades_list_rdd.filter(lambda grade: grade[1] == 'Engineering')\n",
    "engineering_grades.take(2)"
   ]
  },
  {
   "cell_type": "code",
   "execution_count": 20,
   "metadata": {},
   "outputs": [
    {
     "data": {
      "text/plain": [
       "['Mary', 'Lara']"
      ]
     },
     "execution_count": 20,
     "metadata": {},
     "output_type": "execute_result"
    }
   ],
   "source": [
    "female_students_rdd = students_list_rdd.filter(lambda student: student[3] == 'F')\n",
    "female_names_rdd = female_students_rdd.map( lambda student: student[1] )\n",
    "female_names_rdd.take(2)"
   ]
  },
  {
   "cell_type": "code",
   "execution_count": 21,
   "metadata": {},
   "outputs": [
    {
     "data": {
      "text/plain": [
       "{'Biology', 'Engineering', 'Math'}"
      ]
     },
     "execution_count": 21,
     "metadata": {},
     "output_type": "execute_result"
    }
   ],
   "source": [
    "honors_grades_rdd = grades_list_rdd.filter(lambda grade: grade[2] == 10)\n",
    "modules_honors_rdd = honors_grades_rdd.map(lambda grade: grade[1])\n",
    "set(modules_honors_rdd.collect())"
   ]
  },
  {
   "cell_type": "markdown",
   "metadata": {},
   "source": [
    "# Código sección 1.3.3"
   ]
  },
  {
   "cell_type": "code",
   "execution_count": 22,
   "metadata": {},
   "outputs": [
    {
     "name": "stdout",
     "output_type": "stream",
     "text": [
      "267\n"
     ]
    }
   ],
   "source": [
    "age_sum = students_list_rdd.map(lambda student: student[4]).reduce(lambda a,b: a+b)\n",
    "print(age_sum)"
   ]
  },
  {
   "cell_type": "code",
   "execution_count": 23,
   "metadata": {},
   "outputs": [
    {
     "name": "stdout",
     "output_type": "stream",
     "text": [
      "38\n"
     ]
    }
   ],
   "source": [
    "max_age = students_list_rdd.map(lambda student: student[4]).reduce(lambda a,b: max(a,b))\n",
    "print(max_age)"
   ]
  },
  {
   "cell_type": "markdown",
   "metadata": {},
   "source": [
    "# Código sección 1.3.4"
   ]
  },
  {
   "cell_type": "code",
   "execution_count": 24,
   "metadata": {},
   "outputs": [
    {
     "data": {
      "text/plain": [
       "['Math', 'Biology', 'Engineering', 'Physics']"
      ]
     },
     "execution_count": 24,
     "metadata": {},
     "output_type": "execute_result"
    }
   ],
   "source": [
    "distinct_modules_rdd = grades_list_rdd.map(lambda grade: grade[1]).distinct()\n",
    "distinct_modules_rdd.collect()"
   ]
  },
  {
   "cell_type": "code",
   "execution_count": 25,
   "metadata": {},
   "outputs": [
    {
     "data": {
      "text/plain": [
       "[5, 8, 7, 2, 6, 10, 4, 9, 3]"
      ]
     },
     "execution_count": 25,
     "metadata": {},
     "output_type": "execute_result"
    }
   ],
   "source": [
    "distinct_grades_rdd = grades_list_rdd.map(lambda grade: int(grade[2])).distinct()\n",
    "distinct_grades_rdd.collect()"
   ]
  },
  {
   "cell_type": "markdown",
   "metadata": {},
   "source": [
    "# Código sección 1.3.5"
   ]
  },
  {
   "cell_type": "code",
   "execution_count": 26,
   "metadata": {},
   "outputs": [
    {
     "name": "stdout",
     "output_type": "stream",
     "text": [
      "31 defaultdict(<class 'int'>, {5.6: 1, 8.9: 3, 7.1: 1, 2.3: 2, 6.7: 5, 8.5: 2, 10.0: 4, 4.5: 2, 7.8: 1, 7.7: 1, 4.3: 2, 8.0: 1, 9.0: 1, 3.4: 1, 5.7: 1, 6.6: 1, 5.0: 1, 3.3: 1}) 2.3 10.0 208.60000000000002 6.7290322580645165 5.20528616024974 ([2.3, 4.225, 6.15, 8.075, 10.0], [4, 7, 10, 10])\n",
      "[[10, 'Math', 10.0], [2, 'Biology', 10.0], [5, 'Biology', 10.0], [10, 'Engineering', 10.0], [5, 'Engineering', 9.0], [2, 'Math', 8.9], [9, 'Math', 8.9], [7, 'Physics', 8.9], [7, 'Math', 8.5], [7, 'Engineering', 8.5], [4, 'Engineering', 8.0], [9, 'Biology', 7.8], [1, 'Engineering', 7.7], [3, 'Math', 7.1], [5, 'Math', 6.7], [8, 'Math', 6.7], [4, 'Biology', 6.7], [2, 'Engineering', 6.7], [2, 'Physics', 6.7], [4, 'Physics', 6.6], [3, 'Physics', 5.7], [1, 'Math', 5.6], [9, 'Physics', 5.0], [1, 'Biology', 4.5], [5, 'Physics', 4.5], [3, 'Engineering', 4.3], [9, 'Engineering', 4.3], [8, 'Engineering', 3.4], [10, 'Physics', 3.3], [4, 'Math', 2.3], [1, 'Physics', 2.3]]\n"
     ]
    }
   ],
   "source": [
    "only_grades_rdd = grades_list_rdd.map(lambda grade: grade[2])\n",
    "number_grades = only_grades_rdd.count()\n",
    "grades_by_value = only_grades_rdd.countByValue()\n",
    "min_grade = only_grades_rdd.min()\n",
    "max_grade = only_grades_rdd.max()\n",
    "sum_grades = only_grades_rdd.sum()\n",
    "mean_grade = only_grades_rdd.mean()\n",
    "var_grade = only_grades_rdd.variance()\n",
    "histogram_grades = only_grades_rdd.histogram(4)\n",
    "print(number_grades,  grades_by_value, min_grade, max_grade, sum_grades, mean_grade, var_grade, histogram_grades)\n",
    "sorted_rdd = grades_list_rdd.sortBy(lambda grade: grade[2], ascending=False)\n",
    "print(sorted_rdd.collect())"
   ]
  },
  {
   "cell_type": "markdown",
   "metadata": {},
   "source": [
    "# Código sección 1.3.6"
   ]
  },
  {
   "cell_type": "code",
   "execution_count": 27,
   "metadata": {},
   "outputs": [
    {
     "data": {
      "text/plain": [
       "[[4, 'Sherlock', 'Holmes', 'M', 36],\n",
       " [6, 'Sarah', 'Kerrigan', 'F', 21],\n",
       " [7, 'Bruce', 'Wayne', 'M', 32]]"
      ]
     },
     "execution_count": 27,
     "metadata": {},
     "output_type": "execute_result"
    }
   ],
   "source": [
    "sampled_students_rdd = students_list_rdd.sample(False, 0.5)\n",
    "sampled_students_rdd.collect()"
   ]
  },
  {
   "cell_type": "code",
   "execution_count": 28,
   "metadata": {},
   "outputs": [
    {
     "data": {
      "text/plain": [
       "[[1, 'John', 'Doe', 'M', 18],\n",
       " [2, 'Mary', 'Doe', 'F', 20],\n",
       " [3, 'Lara', 'Croft', 'F', 25],\n",
       " [3, 'Lara', 'Croft', 'F', 25],\n",
       " [4, 'Sherlock', 'Holmes', 'M', 36],\n",
       " [4, 'Sherlock', 'Holmes', 'M', 36],\n",
       " [8, 'Tony', 'Stark', 'M', 33],\n",
       " [9, 'Princess', 'Peach', 'F', 21]]"
      ]
     },
     "execution_count": 28,
     "metadata": {},
     "output_type": "execute_result"
    }
   ],
   "source": [
    "sampled_students_rdd = students_list_rdd.sample(True, 0.7)\n",
    "sampled_students_rdd.collect()"
   ]
  },
  {
   "cell_type": "code",
   "execution_count": 29,
   "metadata": {},
   "outputs": [
    {
     "name": "stdout",
     "output_type": "stream",
     "text": [
      "[[1, 'John', 'Doe', 'M', 18], [2, 'Mary', 'Doe', 'F', 20], [5, 'John', 'Watson', 'M', 38], [6, 'Sarah', 'Kerrigan', 'F', 21], [8, 'Tony', 'Stark', 'M', 33]]\n",
      "[[3, 'Lara', 'Croft', 'F', 25], [4, 'Sherlock', 'Holmes', 'M', 36], [7, 'Bruce', 'Wayne', 'M', 32], [9, 'Princess', 'Peach', 'F', 21], [10, 'Peter', 'Parker', 'M', 23]]\n"
     ]
    }
   ],
   "source": [
    "list_rdds = students_list_rdd.randomSplit([0.5, 0.5])\n",
    "print(list_rdds[0].collect())\n",
    "print(list_rdds[1].collect())"
   ]
  },
  {
   "cell_type": "code",
   "execution_count": 30,
   "metadata": {},
   "outputs": [],
   "source": [
    "sampled_grades_rdd = grades_list_rdd.sample(True, 2)\n",
    "list_grades_rdds = grades_list_rdd.randomSplit([0.5, 0.25, 0.25])"
   ]
  },
  {
   "cell_type": "markdown",
   "metadata": {},
   "source": [
    "# Código sección 1.3.7"
   ]
  },
  {
   "cell_type": "code",
   "execution_count": 31,
   "metadata": {},
   "outputs": [
    {
     "name": "stdout",
     "output_type": "stream",
     "text": [
      "[(1, ['John', 'Doe', 'M', 18]), (2, ['Mary', 'Doe', 'F', 20]), (3, ['Lara', 'Croft', 'F', 25])]\n"
     ]
    }
   ],
   "source": [
    "students_pair_rdd = students_list_rdd.map( lambda student: (student[0], student[1:]) )\n",
    "print(students_pair_rdd.take(3))"
   ]
  },
  {
   "cell_type": "code",
   "execution_count": 32,
   "metadata": {},
   "outputs": [
    {
     "name": "stdout",
     "output_type": "stream",
     "text": [
      "[(1, ['Math', 5.6]), (2, ['Math', 8.9]), (3, ['Math', 7.1])]\n"
     ]
    }
   ],
   "source": [
    "grades_pair_rdd = grades_list_rdd.map( lambda grade: (grade[0], grade[1:]) )\n",
    "print(grades_pair_rdd.take(3))"
   ]
  },
  {
   "cell_type": "code",
   "execution_count": 33,
   "metadata": {},
   "outputs": [
    {
     "name": "stdout",
     "output_type": "stream",
     "text": [
      "MapValue result example\n",
      "[(1, 'John Doe'), (2, 'Mary Doe'), (3, 'Lara Croft')]\n",
      "ReduceByKey result example\n",
      "[('M', 38), ('F', 25)]\n",
      "GroupByKey result example\n",
      "[('M', [[1, 'John', 'Doe', 'M', 18], [4, 'Sherlock', 'Holmes', 'M', 36], [5, 'John', 'Watson', 'M', 38], [7, 'Bruce', 'Wayne', 'M', 32], [8, 'Tony', 'Stark', 'M', 33], [10, 'Peter', 'Parker', 'M', 23]]), ('F', [[2, 'Mary', 'Doe', 'F', 20], [3, 'Lara', 'Croft', 'F', 25], [6, 'Sarah', 'Kerrigan', 'F', 21], [9, 'Princess', 'Peach', 'F', 21]])]\n",
      "CountByKey result example\n",
      "defaultdict(<class 'int'>, {'M': 6, 'F': 4})\n",
      "SortByKey example\n",
      "[('Biology', [1, 'Biology', 4.5]), ('Biology', [2, 'Biology', 10.0]), ('Biology', [4, 'Biology', 6.7]), ('Biology', [5, 'Biology', 10.0]), ('Biology', [9, 'Biology', 7.8]), ('Engineering', [1, 'Engineering', 7.7]), ('Engineering', [2, 'Engineering', 6.7]), ('Engineering', [3, 'Engineering', 4.3]), ('Engineering', [4, 'Engineering', 8.0]), ('Engineering', [5, 'Engineering', 9.0]), ('Engineering', [7, 'Engineering', 8.5]), ('Engineering', [8, 'Engineering', 3.4]), ('Engineering', [9, 'Engineering', 4.3]), ('Engineering', [10, 'Engineering', 10.0]), ('Math', [1, 'Math', 5.6]), ('Math', [2, 'Math', 8.9]), ('Math', [3, 'Math', 7.1]), ('Math', [4, 'Math', 2.3]), ('Math', [5, 'Math', 6.7]), ('Math', [7, 'Math', 8.5]), ('Math', [8, 'Math', 6.7]), ('Math', [9, 'Math', 8.9]), ('Math', [10, 'Math', 10.0]), ('Physics', [1, 'Physics', 2.3]), ('Physics', [2, 'Physics', 6.7]), ('Physics', [3, 'Physics', 5.7]), ('Physics', [4, 'Physics', 6.6]), ('Physics', [5, 'Physics', 4.5]), ('Physics', [7, 'Physics', 8.9]), ('Physics', [9, 'Physics', 5.0]), ('Physics', [10, 'Physics', 3.3])]\n"
     ]
    }
   ],
   "source": [
    "students_names_pair_rdd = students_pair_rdd.mapValues( lambda student: student[0] + \" \" + student[1] )\n",
    "print(\"MapValue result example\")\n",
    "print(students_names_pair_rdd.take(3))\n",
    "students_max_age_per_gender_rdd = students_list_rdd.map( lambda student: (student[3], student[4]) ).reduceByKey( lambda a,b: a if a>b else b )\n",
    "print(\"ReduceByKey result example\")\n",
    "print(students_max_age_per_gender_rdd.collect())\n",
    "students_per_gender_rdd = students_list_rdd.map( lambda student: (student[3],  student )).groupByKey()\n",
    "print(\"GroupByKey result example\")\n",
    "print([ (x,list(y))  for (x,y) in students_per_gender_rdd.collect() ])\n",
    "students_count_per_gender_rdd = students_list_rdd.map( lambda student: (student[3], 1)).countByKey()\n",
    "print(\"CountByKey result example\")\n",
    "print( students_count_per_gender_rdd )\n",
    "grades_sorted_rdd = grades_list_rdd.map(lambda grade: (grade[1], grade)).sortByKey(ascending=True)\n",
    "print(\"SortByKey example\")\n",
    "print( grades_sorted_rdd.collect() )"
   ]
  },
  {
   "cell_type": "code",
   "execution_count": 34,
   "metadata": {},
   "outputs": [
    {
     "name": "stdout",
     "output_type": "stream",
     "text": [
      "defaultdict(<class 'int'>, {'Doe': 2, 'Croft': 1, 'Holmes': 1, 'Watson': 1, 'Kerrigan': 1, 'Wayne': 1, 'Stark': 1, 'Peach': 1, 'Parker': 1})\n"
     ]
    }
   ],
   "source": [
    "surnames_count = students_list_rdd.map( lambda student: (student[2], 1) ).countByKey()\n",
    "print(surnames_count)"
   ]
  },
  {
   "cell_type": "code",
   "execution_count": 35,
   "metadata": {},
   "outputs": [
    {
     "name": "stdout",
     "output_type": "stream",
     "text": [
      "[(1, 5.025), (2, 8.075), (3, 5.699999999999999), (4, 5.9), (5, 7.55), (7, 8.633333333333333), (8, 5.05), (9, 6.5), (10, 7.766666666666667)]\n"
     ]
    }
   ],
   "source": [
    "avg_marks_per_student_rdd = grades_list_rdd.map( lambda grade: (grade[0], (grade[2],1) ) ).reduceByKey( lambda a,b: (a[0]+b[0], a[1]+b[1]) ).mapValues( lambda avg: avg[0]/avg[1] )\n",
    "print(avg_marks_per_student_rdd.collect())"
   ]
  },
  {
   "cell_type": "markdown",
   "metadata": {},
   "source": [
    "# Código sección 1.4.1"
   ]
  },
  {
   "cell_type": "code",
   "execution_count": 36,
   "metadata": {},
   "outputs": [
    {
     "name": "stdout",
     "output_type": "stream",
     "text": [
      "[1, 1, 2, 3, 5, 0, 2, 5, 6, 5]\n",
      "[2, 5]\n",
      "[1, 1, 3]\n"
     ]
    }
   ],
   "source": [
    "rdd1 = sc.parallelize( [1,1,2,3,5] )\n",
    "rdd2 = sc.parallelize( [0,2,5,6,5 ] )\n",
    "union_rdd = rdd1.union(rdd2)\n",
    "intersection_rdd = rdd1.intersection(rdd2)\n",
    "difference_rdd = rdd1.subtract(rdd2)\n",
    "print(union_rdd.collect())\n",
    "print(intersection_rdd.collect())\n",
    "print(difference_rdd.collect())"
   ]
  },
  {
   "cell_type": "markdown",
   "metadata": {},
   "source": [
    "# Código sección 1.4.2"
   ]
  },
  {
   "cell_type": "code",
   "execution_count": 37,
   "metadata": {},
   "outputs": [
    {
     "data": {
      "text/plain": [
       "[(2, (['Mary', 'Doe', 'F', 20], ['Math', 8.9])),\n",
       " (2, (['Mary', 'Doe', 'F', 20], ['Biology', 10.0])),\n",
       " (2, (['Mary', 'Doe', 'F', 20], ['Engineering', 6.7])),\n",
       " (2, (['Mary', 'Doe', 'F', 20], ['Physics', 6.7])),\n",
       " (4, (['Sherlock', 'Holmes', 'M', 36], ['Math', 2.3])),\n",
       " (4, (['Sherlock', 'Holmes', 'M', 36], ['Biology', 6.7])),\n",
       " (4, (['Sherlock', 'Holmes', 'M', 36], ['Engineering', 8.0])),\n",
       " (4, (['Sherlock', 'Holmes', 'M', 36], ['Physics', 6.6])),\n",
       " (8, (['Tony', 'Stark', 'M', 33], ['Math', 6.7])),\n",
       " (8, (['Tony', 'Stark', 'M', 33], ['Engineering', 3.4])),\n",
       " (10, (['Peter', 'Parker', 'M', 23], ['Math', 10.0])),\n",
       " (10, (['Peter', 'Parker', 'M', 23], ['Engineering', 10.0])),\n",
       " (10, (['Peter', 'Parker', 'M', 23], ['Physics', 3.3])),\n",
       " (1, (['John', 'Doe', 'M', 18], ['Math', 5.6])),\n",
       " (1, (['John', 'Doe', 'M', 18], ['Biology', 4.5])),\n",
       " (1, (['John', 'Doe', 'M', 18], ['Engineering', 7.7])),\n",
       " (1, (['John', 'Doe', 'M', 18], ['Physics', 2.3])),\n",
       " (3, (['Lara', 'Croft', 'F', 25], ['Math', 7.1])),\n",
       " (3, (['Lara', 'Croft', 'F', 25], ['Engineering', 4.3])),\n",
       " (3, (['Lara', 'Croft', 'F', 25], ['Physics', 5.7])),\n",
       " (5, (['John', 'Watson', 'M', 38], ['Math', 6.7])),\n",
       " (5, (['John', 'Watson', 'M', 38], ['Biology', 10.0])),\n",
       " (5, (['John', 'Watson', 'M', 38], ['Engineering', 9.0])),\n",
       " (5, (['John', 'Watson', 'M', 38], ['Physics', 4.5])),\n",
       " (7, (['Bruce', 'Wayne', 'M', 32], ['Math', 8.5])),\n",
       " (7, (['Bruce', 'Wayne', 'M', 32], ['Engineering', 8.5])),\n",
       " (7, (['Bruce', 'Wayne', 'M', 32], ['Physics', 8.9])),\n",
       " (9, (['Princess', 'Peach', 'F', 21], ['Math', 8.9])),\n",
       " (9, (['Princess', 'Peach', 'F', 21], ['Biology', 7.8])),\n",
       " (9, (['Princess', 'Peach', 'F', 21], ['Engineering', 4.3])),\n",
       " (9, (['Princess', 'Peach', 'F', 21], ['Physics', 5.0]))]"
      ]
     },
     "execution_count": 37,
     "metadata": {},
     "output_type": "execute_result"
    }
   ],
   "source": [
    "students_grades_rdd = students_pair_rdd.join(grades_pair_rdd)\n",
    "students_grades_rdd.collect()"
   ]
  },
  {
   "cell_type": "code",
   "execution_count": 38,
   "metadata": {},
   "outputs": [
    {
     "data": {
      "text/plain": [
       "[(2, (['Mary', 'Doe', 'F', 20], ['Math', 8.9])),\n",
       " (2, (['Mary', 'Doe', 'F', 20], ['Biology', 10.0])),\n",
       " (2, (['Mary', 'Doe', 'F', 20], ['Engineering', 6.7])),\n",
       " (2, (['Mary', 'Doe', 'F', 20], ['Physics', 6.7])),\n",
       " (4, (['Sherlock', 'Holmes', 'M', 36], ['Math', 2.3])),\n",
       " (4, (['Sherlock', 'Holmes', 'M', 36], ['Biology', 6.7])),\n",
       " (4, (['Sherlock', 'Holmes', 'M', 36], ['Engineering', 8.0])),\n",
       " (4, (['Sherlock', 'Holmes', 'M', 36], ['Physics', 6.6])),\n",
       " (6, (['Sarah', 'Kerrigan', 'F', 21], None)),\n",
       " (8, (['Tony', 'Stark', 'M', 33], ['Math', 6.7])),\n",
       " (8, (['Tony', 'Stark', 'M', 33], ['Engineering', 3.4])),\n",
       " (10, (['Peter', 'Parker', 'M', 23], ['Math', 10.0])),\n",
       " (10, (['Peter', 'Parker', 'M', 23], ['Engineering', 10.0])),\n",
       " (10, (['Peter', 'Parker', 'M', 23], ['Physics', 3.3])),\n",
       " (1, (['John', 'Doe', 'M', 18], ['Math', 5.6])),\n",
       " (1, (['John', 'Doe', 'M', 18], ['Biology', 4.5])),\n",
       " (1, (['John', 'Doe', 'M', 18], ['Engineering', 7.7])),\n",
       " (1, (['John', 'Doe', 'M', 18], ['Physics', 2.3])),\n",
       " (3, (['Lara', 'Croft', 'F', 25], ['Math', 7.1])),\n",
       " (3, (['Lara', 'Croft', 'F', 25], ['Engineering', 4.3])),\n",
       " (3, (['Lara', 'Croft', 'F', 25], ['Physics', 5.7])),\n",
       " (5, (['John', 'Watson', 'M', 38], ['Math', 6.7])),\n",
       " (5, (['John', 'Watson', 'M', 38], ['Biology', 10.0])),\n",
       " (5, (['John', 'Watson', 'M', 38], ['Engineering', 9.0])),\n",
       " (5, (['John', 'Watson', 'M', 38], ['Physics', 4.5])),\n",
       " (7, (['Bruce', 'Wayne', 'M', 32], ['Math', 8.5])),\n",
       " (7, (['Bruce', 'Wayne', 'M', 32], ['Engineering', 8.5])),\n",
       " (7, (['Bruce', 'Wayne', 'M', 32], ['Physics', 8.9])),\n",
       " (9, (['Princess', 'Peach', 'F', 21], ['Math', 8.9])),\n",
       " (9, (['Princess', 'Peach', 'F', 21], ['Biology', 7.8])),\n",
       " (9, (['Princess', 'Peach', 'F', 21], ['Engineering', 4.3])),\n",
       " (9, (['Princess', 'Peach', 'F', 21], ['Physics', 5.0]))]"
      ]
     },
     "execution_count": 38,
     "metadata": {},
     "output_type": "execute_result"
    }
   ],
   "source": [
    "students_grades_rdd = students_pair_rdd.leftOuterJoin(grades_pair_rdd)\n",
    "students_grades_rdd.collect()"
   ]
  },
  {
   "cell_type": "code",
   "execution_count": 39,
   "metadata": {},
   "outputs": [
    {
     "data": {
      "text/plain": [
       "[(2, (['Mary', 'Doe', 'F', 20], ['Math', 8.9])),\n",
       " (2, (['Mary', 'Doe', 'F', 20], ['Biology', 10.0])),\n",
       " (2, (['Mary', 'Doe', 'F', 20], ['Engineering', 6.7])),\n",
       " (2, (['Mary', 'Doe', 'F', 20], ['Physics', 6.7])),\n",
       " (4, (['Sherlock', 'Holmes', 'M', 36], ['Math', 2.3])),\n",
       " (4, (['Sherlock', 'Holmes', 'M', 36], ['Biology', 6.7])),\n",
       " (4, (['Sherlock', 'Holmes', 'M', 36], ['Engineering', 8.0])),\n",
       " (4, (['Sherlock', 'Holmes', 'M', 36], ['Physics', 6.6])),\n",
       " (8, (['Tony', 'Stark', 'M', 33], ['Math', 6.7])),\n",
       " (8, (['Tony', 'Stark', 'M', 33], ['Engineering', 3.4])),\n",
       " (10, (['Peter', 'Parker', 'M', 23], ['Math', 10.0])),\n",
       " (10, (['Peter', 'Parker', 'M', 23], ['Engineering', 10.0])),\n",
       " (10, (['Peter', 'Parker', 'M', 23], ['Physics', 3.3])),\n",
       " (1, (['John', 'Doe', 'M', 18], ['Math', 5.6])),\n",
       " (1, (['John', 'Doe', 'M', 18], ['Biology', 4.5])),\n",
       " (1, (['John', 'Doe', 'M', 18], ['Engineering', 7.7])),\n",
       " (1, (['John', 'Doe', 'M', 18], ['Physics', 2.3])),\n",
       " (3, (['Lara', 'Croft', 'F', 25], ['Math', 7.1])),\n",
       " (3, (['Lara', 'Croft', 'F', 25], ['Engineering', 4.3])),\n",
       " (3, (['Lara', 'Croft', 'F', 25], ['Physics', 5.7])),\n",
       " (5, (['John', 'Watson', 'M', 38], ['Math', 6.7])),\n",
       " (5, (['John', 'Watson', 'M', 38], ['Biology', 10.0])),\n",
       " (5, (['John', 'Watson', 'M', 38], ['Engineering', 9.0])),\n",
       " (5, (['John', 'Watson', 'M', 38], ['Physics', 4.5])),\n",
       " (7, (['Bruce', 'Wayne', 'M', 32], ['Math', 8.5])),\n",
       " (7, (['Bruce', 'Wayne', 'M', 32], ['Engineering', 8.5])),\n",
       " (7, (['Bruce', 'Wayne', 'M', 32], ['Physics', 8.9])),\n",
       " (9, (['Princess', 'Peach', 'F', 21], ['Math', 8.9])),\n",
       " (9, (['Princess', 'Peach', 'F', 21], ['Biology', 7.8])),\n",
       " (9, (['Princess', 'Peach', 'F', 21], ['Engineering', 4.3])),\n",
       " (9, (['Princess', 'Peach', 'F', 21], ['Physics', 5.0]))]"
      ]
     },
     "execution_count": 39,
     "metadata": {},
     "output_type": "execute_result"
    }
   ],
   "source": [
    "students_grades_rdd = students_pair_rdd.rightOuterJoin(grades_pair_rdd)\n",
    "students_grades_rdd.collect()"
   ]
  },
  {
   "cell_type": "markdown",
   "metadata": {},
   "source": [
    "En este caso, el resultado es idéntico al de la operación de join ya que no hay claves en el RDD de notas que no aparezcan en el RDD de estudiantes."
   ]
  },
  {
   "cell_type": "code",
   "execution_count": 40,
   "metadata": {},
   "outputs": [
    {
     "data": {
      "text/plain": [
       "[('o1', 'o5'),\n",
       " ('o1', 'o6'),\n",
       " ('o2', 'o5'),\n",
       " ('o2', 'o6'),\n",
       " ('o3', 'o5'),\n",
       " ('o3', 'o6'),\n",
       " ('o4', 'o5'),\n",
       " ('o4', 'o6')]"
      ]
     },
     "execution_count": 40,
     "metadata": {},
     "output_type": "execute_result"
    }
   ],
   "source": [
    "rdd1 = sc.parallelize( [\"o1\", \"o2\", \"o3\", \"o4\"] )\n",
    "rdd2 = sc.parallelize( [\"o5\", \"o6\"] )\n",
    "cartesian_rdd = rdd1.cartesian(rdd2)\n",
    "cartesian_rdd.collect()"
   ]
  },
  {
   "cell_type": "markdown",
   "metadata": {},
   "source": [
    "# Código sección 1.5"
   ]
  },
  {
   "cell_type": "code",
   "execution_count": null,
   "metadata": {},
   "outputs": [],
   "source": [
    "students_pair_rdd.saveAsTextFile(\"../data/student_pair/\")"
   ]
  },
  {
   "cell_type": "code",
   "execution_count": null,
   "metadata": {},
   "outputs": [],
   "source": [
    "students_fullname_rdd.map(lambda student: \"\\t\".join([str(field) for field in student])).saveAsTextFile(\"../data/student_fullname\")"
   ]
  },
  {
   "cell_type": "markdown",
   "metadata": {},
   "source": [
    "# Código sección 1.6"
   ]
  },
  {
   "cell_type": "code",
   "execution_count": 71,
   "metadata": {
    "scrolled": true
   },
   "outputs": [
    {
     "data": {
      "text/plain": [
       "[(2, '2'),\n",
       " (1, '4'),\n",
       " (1, '1'),\n",
       " (1, '3'),\n",
       " (1, '8'),\n",
       " (1, '9'),\n",
       " (2, '10'),\n",
       " (2, '5'),\n",
       " (2, '7')]"
      ]
     },
     "execution_count": 71,
     "metadata": {},
     "output_type": "execute_result"
    }
   ],
   "source": [
    "import random\n",
    "import pyspark\n",
    "import math\n",
    "\n",
    "#Read grades RDD\n",
    "grades_rdd = sc.textFile('../data/grades.tsv')\n",
    "#Number of groups for dividing students\n",
    "number_of_groups = 2\n",
    "#Creates PairRDD with format (student_id, (mark, 1) )\n",
    "grades_pair_rdd = grades_rdd.map(lambda l: l.split('\\t')).map(lambda g: (g[0], (float(g[2]), 1) ))\n",
    "#Create PairRDD with format (student_id, average_mark_for_student)\n",
    "grades_pair_avg_rdd = grades_pair_rdd.reduceByKey(lambda a,b: (a[0]+b[0],a[1]+b[1]) ).mapValues(lambda s: s[0]/s[1] )\n",
    "#We cache the RDD into memory\n",
    "grades_pair_avg_rdd.persist(pyspark.StorageLevel.MEMORY_AND_DISK)\n",
    "#We create a group RDD with format (group_id, student_id)\n",
    "groups_rdd = grades_pair_avg_rdd.map( lambda s: (random.randint(1, number_of_groups), s[0]) )\n",
    "\n",
    "iterations = 0\n",
    "change = True\n",
    "total_students = groups_rdd.count()\n",
    "\n",
    "while iterations < 10 and change :\n",
    "    #These two operations calculate PairRDD with format (group_id, average_mark_of_group)\n",
    "    group_avg_grades_rdd = groups_rdd.map( lambda g: (g[1], g[0]) ).join(grades_pair_avg_rdd).map( lambda g: (g[1][0], g[1][1]) )\n",
    "    group_avg_grades_rdd = group_avg_grades_rdd.mapValues( lambda g: (g, 1) ).reduceByKey( lambda a,b :(a[0]+b[0], a[1]+b[1]) ).mapValues(lambda g: g[0]/g[1])\n",
    "    #Cartesian product of groups with format ( (student_id, average_mark_student), (group_id, average_mark_group) )\n",
    "    new_groups_rdd = grades_pair_avg_rdd.cartesian(group_avg_grades_rdd)\n",
    "    #Change RDD to have format  (student_id, (distance_marks, group_id) ) \n",
    "    new_groups_rdd = new_groups_rdd.map( lambda t: (t[0][0], (abs(t[0][1]-t[1][1]), t[1][0]) ) )\n",
    "    #Calculate the closes group by reducing by minimum distance. Then change format of tuples to (group_id, student_id)\n",
    "    new_groups_rdd = new_groups_rdd.reduceByKey( lambda a,b : a if a[0]<b[0] else b ).map( lambda t: (t[1][1], t[0]) )\n",
    "    #Calculate common group membership with previous solution\n",
    "    common_membership=groups_rdd.intersection(new_groups_rdd).count()\n",
    "    if common_membership == total_students : #All are the same\n",
    "        change = False\n",
    "    groups_rdd = new_groups_rdd\n",
    "    iterations=iterations+1\n",
    "    \n",
    "groups_rdd.collect()"
   ]
  },
  {
   "cell_type": "markdown",
   "metadata": {},
   "source": [
    "# Código sección 1.7"
   ]
  },
  {
   "cell_type": "code",
   "execution_count": 76,
   "metadata": {},
   "outputs": [
    {
     "data": {
      "text/plain": [
       "[[1, 'John', 'Doe', 'M', 218], [2, 'Mary', 'Doe', 'F', 220]]"
      ]
     },
     "execution_count": 76,
     "metadata": {},
     "output_type": "execute_result"
    }
   ],
   "source": [
    "x = 200\n",
    "new_students_rdd = students_list_rdd.map( lambda student: student[0:-1] + [student[-1]+x] )\n",
    "new_students_rdd.take(2)"
   ]
  },
  {
   "cell_type": "code",
   "execution_count": 80,
   "metadata": {},
   "outputs": [
    {
     "name": "stdout",
     "output_type": "stream",
     "text": [
      "[[1, 'John', 'Doe', 'M', 418], [2, 'Mary', 'Doe', 'F', 420]]\n"
     ]
    }
   ],
   "source": [
    "x = sc.broadcast(200)\n",
    "new_students_rdd = students_list_rdd.map( lambda student: student[0:-1] + [student[-1]+x.value] )\n",
    "new_students_rdd = new_students_rdd.map( lambda student: student[0:-1] + [student[-1]+x.value] )\n",
    "result = new_students_rdd.take(2)\n",
    "x.unpersist()\n",
    "x.destroy()\n",
    "print(result)"
   ]
  },
  {
   "cell_type": "code",
   "execution_count": null,
   "metadata": {},
   "outputs": [],
   "source": []
  }
 ],
 "metadata": {
  "kernelspec": {
   "display_name": "Python 3",
   "language": "python",
   "name": "python3"
  },
  "language_info": {
   "codemirror_mode": {
    "name": "ipython",
    "version": 3
   },
   "file_extension": ".py",
   "mimetype": "text/x-python",
   "name": "python",
   "nbconvert_exporter": "python",
   "pygments_lexer": "ipython3",
   "version": "3.7.0"
  }
 },
 "nbformat": 4,
 "nbformat_minor": 2
}
